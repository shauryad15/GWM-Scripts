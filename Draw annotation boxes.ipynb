{
 "cells": [
  {
   "cell_type": "code",
   "execution_count": 1,
   "metadata": {},
   "outputs": [],
   "source": [
    "import matplotlib.image as mpimg\n",
    "import glob\n",
    "import pandas as pd\n",
    "import cv2"
   ]
  },
  {
   "cell_type": "code",
   "execution_count": 2,
   "metadata": {},
   "outputs": [],
   "source": [
    "#Draw boxes\n",
    "def draw_boxes(image, box_annotations):\n",
    "    cv2.rectangle(image, (box_annotations[2], box_annotations[3]), (box_annotations[4], box_annotations[5]), (255,255,255), 1)\n",
    "    cv2.putText(image, box_annotations[1], (box_annotations[2], box_annotations[3]-10), cv2.FONT_HERSHEY_SIMPLEX, 0.5, (255,0, 255), lineType=cv2.LINE_AA)\n",
    "    return image\n",
    "\n",
    "#Draw boxes on bulbs\n",
    "def draw_bulb(image,bulb_annotations):\n",
    "    if bulb_annotations[1] == \"stop\":\n",
    "        cv2.rectangle(image, (bulb_annotations[2], bulb_annotations[3]), (bulb_annotations[4], bulb_annotations[5]), (0,0,255), 1)\n",
    "    else:\n",
    "        cv2.rectangle(image, (bulb_annotations[2], bulb_annotations[3]), (bulb_annotations[4], bulb_annotations[5]), (0,255,0), 1)\n",
    "    return image"
   ]
  },
  {
   "cell_type": "code",
   "execution_count": 3,
   "metadata": {},
   "outputs": [
    {
     "ename": "IndentationError",
     "evalue": "expected an indented block (<ipython-input-3-e940e9f0958d>, line 16)",
     "output_type": "error",
     "traceback": [
      "\u001b[1;36m  File \u001b[1;32m\"<ipython-input-3-e940e9f0958d>\"\u001b[1;36m, line \u001b[1;32m16\u001b[0m\n\u001b[1;33m    box_ann = box_annotations_list[box_index]\u001b[0m\n\u001b[1;37m          ^\u001b[0m\n\u001b[1;31mIndentationError\u001b[0m\u001b[1;31m:\u001b[0m expected an indented block\n"
     ]
    }
   ],
   "source": [
    "#Draw annotation boxes\n",
    "def draw(image_path, box_annotations, bulb_annotations):\n",
    "    image_path = glob.glob(image_path)\n",
    "    box_annotations = pd.read_csv(box_annotations, sep = ';')\n",
    "    bulb_annotations = pd.read_csv(bulb_annotations, sep = ';')\n",
    "    box_annotations_list = box_annotations.values[:,:6]\n",
    "    bulb_annotations_list = bulb_annotations.values[:,:6]\n",
    "\n",
    "    box_index = 0\n",
    "    bulb_index = 0\n",
    "    for images in image_path:\n",
    "        image = cv2.imread(images)\n",
    "        img_name = images.split('\\\\')\n",
    "        while(box_index <=len(box_annotations_list) or bulb_index <=len(bulb_annotations_list)):            \n",
    "            if box_index<=len(box_annotations_list):\n",
    "            box_ann = box_annotations_list[box_index]\n",
    "            box_ann_name = box_ann[0].split('/')\n",
    "            if(img_name[-1] == box_ann_name[-1]):\n",
    "                img = draw_boxes(image, box_ann)\n",
    "                cv2.imshow(\"Image\", img)\n",
    "                cv2.imwrite('D:/LISA/Scripts/Boxed images/'+ \"boxed\" + str(box_index)+ \".jpg\", img)\n",
    "                cv2.waitKey(10)\n",
    "            else:\n",
    "                break\n",
    "            \n",
    "            box_index +=1\n",
    "            \n",
    "        while(bulb_index <=len(bulb_annotations_list)):            \n",
    "            bulb_ann = bulb_annotations_list[bulb_index]\n",
    "            bulb_ann_name = bulb_ann[0].split('/')\n",
    "            if(img_name[-1] == bulb_ann_name[-1]):\n",
    "                img = draw_bulb(image, bulb_ann)\n",
    "                cv2.imshow(\"Image\", img)\n",
    "                cv2.waitKey(10)\n",
    "            else:\n",
    "                break\n",
    "            \n",
    "            bulb_index +=1\n",
    "            \n",
    "    cv2.destroyAllWindows()\n",
    "        "
   ]
  },
  {
   "cell_type": "code",
   "execution_count": null,
   "metadata": {},
   "outputs": [],
   "source": [
    "#Image dataset path\n",
    "image_path = 'D:\\\\LISA\\\\lisa-traffic-light-dataset\\\\dayTrain\\\\dayTrain\\\\dayClip3\\\\frames\\\\*.jpg'\n",
    "#Annotations path\n",
    "box_annotations = 'D:\\\\LISA\\\\lisa-traffic-light-dataset\\\\Annotations\\\\Annotations\\\\dayTrain\\\\dayClip3\\\\frameAnnotationsBOX.csv'\n",
    "bulb_annotations = 'D:\\\\LISA\\\\lisa-traffic-light-dataset\\\\Annotations\\\\Annotations\\\\dayTrain\\\\dayClip3\\\\frameAnnotationsBULB.csv'\n",
    "\n",
    "#Function call to draw annotaion boxes\n",
    "draw(image_path, box_annotations, bulb_annotations)"
   ]
  }
 ],
 "metadata": {
  "kernelspec": {
   "display_name": "Python 3",
   "language": "python",
   "name": "python3"
  },
  "language_info": {
   "codemirror_mode": {
    "name": "ipython",
    "version": 3
   },
   "file_extension": ".py",
   "mimetype": "text/x-python",
   "name": "python",
   "nbconvert_exporter": "python",
   "pygments_lexer": "ipython3",
   "version": "3.6.6"
  }
 },
 "nbformat": 4,
 "nbformat_minor": 2
}
